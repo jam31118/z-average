{
 "cells": [
  {
   "cell_type": "code",
   "execution_count": 1,
   "metadata": {},
   "outputs": [],
   "source": [
    "import numpy as np\n",
    "import matplotlib.pyplot as plt"
   ]
  },
  {
   "cell_type": "code",
   "execution_count": 2,
   "metadata": {},
   "outputs": [],
   "source": [
    "def _p_integrand(t, P_func, rho0, phi0):\n",
    "    _rho = np.sqrt(rho0*rho0 + t*t)\n",
    "    _theta = np.pi / 2.0 - np.arctan2(t,rho0)\n",
    "    _phi = phi0\n",
    "    \n",
    "    _coord = (_rho, _theta, _phi)\n",
    "    _Pval = P_func(_coord)\n",
    "#     dldt_abs = np.sqrt( t*t * ( rho0*rho0 + t*t) + rho0*rho0 ) / ( rho0*rho0 + t*t )\n",
    "    _dldt_abs = 1.0\n",
    "    _integrand = _Pval * _dldt_abs\n",
    "    return _integrand"
   ]
  },
  {
   "cell_type": "code",
   "execution_count": 3,
   "metadata": {},
   "outputs": [],
   "source": [
    "from tdse.integral import numerical_integral_trapezoidal\n",
    "\n",
    "def P_bar(rho0, phi0, P_func, z0):\n",
    "    _t_arr = np.linspace(-z0,z0,1000)\n",
    "    _integrand_arr = _p_integrand(_t_arr, P_func, rho0, phi0)\n",
    "    _P_bar_val = 1.0 / (2.0 * z0) * numerical_integral_trapezoidal(_t_arr, _integrand_arr)\n",
    "    return _P_bar_val\n",
    "\n",
    "P_bar_vec = np.vectorize(P_bar, excluded=['P_func','z0'])"
   ]
  },
  {
   "cell_type": "code",
   "execution_count": 4,
   "metadata": {},
   "outputs": [],
   "source": [
    "rho_arr = 0.1 * np.arange(1,30)\n",
    "theta_arr = np.linspace(0, np.pi, 9)\n",
    "phi_arr = np.linspace(0, 2*np.pi, 21)"
   ]
  },
  {
   "cell_type": "code",
   "execution_count": 5,
   "metadata": {},
   "outputs": [],
   "source": [
    "R = 2.0\n",
    "z0 = 1.5"
   ]
  },
  {
   "cell_type": "markdown",
   "metadata": {},
   "source": [
    "# interpolation"
   ]
  },
  {
   "cell_type": "code",
   "execution_count": 6,
   "metadata": {},
   "outputs": [],
   "source": [
    "def P_func(rho,theta,phi):\n",
    "#     return np.ones_like(rho)\n",
    "    return 1.0 * (rho < R)\n",
    "#     return 1.3 if rho < 0.1 else 0.0"
   ]
  },
  {
   "cell_type": "code",
   "execution_count": 7,
   "metadata": {},
   "outputs": [],
   "source": [
    "P_arr = P_func(*np.meshgrid(rho_arr, theta_arr, phi_arr, indexing='ij', sparse=False))"
   ]
  },
  {
   "cell_type": "code",
   "execution_count": 8,
   "metadata": {},
   "outputs": [],
   "source": [
    "from scipy.interpolate import RegularGridInterpolator\n",
    "\n",
    "P_func_interp = RegularGridInterpolator((rho_arr, theta_arr, phi_arr), P_arr)"
   ]
  },
  {
   "cell_type": "markdown",
   "metadata": {},
   "source": [
    "# #"
   ]
  },
  {
   "cell_type": "code",
   "execution_count": 9,
   "metadata": {},
   "outputs": [],
   "source": [
    "Rho_arr, Phi_arr = np.meshgrid(rho_arr[:-5], phi_arr)"
   ]
  },
  {
   "cell_type": "code",
   "execution_count": 10,
   "metadata": {},
   "outputs": [],
   "source": [
    "Z_rho0 = z0 \\\n",
    "    + (np.sqrt(np.abs(R*R-Rho_arr*Rho_arr))-z0) * (Rho_arr > np.sqrt(R*R-z0*z0)) \\\n",
    "    + (0 - np.sqrt(np.abs(R*R-Rho_arr*Rho_arr))) * (Rho_arr > R)"
   ]
  },
  {
   "cell_type": "code",
   "execution_count": 11,
   "metadata": {},
   "outputs": [],
   "source": [
    "P_bar_ana_arr = 2.0 * Z_rho0 / (2.0 * z0)"
   ]
  },
  {
   "cell_type": "code",
   "execution_count": 12,
   "metadata": {},
   "outputs": [],
   "source": [
    "P_bar_arr = P_bar_vec(Rho_arr, Phi_arr, P_func_interp, z0=z0)\n",
    "# P_bar_ana_arr = 1.3 * 2.0 * np.sqrt(2.0*2.0 - Rho_arr*Rho_arr - (2.0*2.0 - Rho_arr*Rho_arr)*(Rho_arr>(np.sqrt(2.0*2.0 - z0*z0)))) / (2.0 * z0)"
   ]
  },
  {
   "cell_type": "code",
   "execution_count": 13,
   "metadata": {},
   "outputs": [],
   "source": [
    "P_bar_diff_arr = P_bar_ana_arr - P_bar_arr"
   ]
  },
  {
   "cell_type": "markdown",
   "metadata": {},
   "source": [
    "# Plot"
   ]
  },
  {
   "cell_type": "code",
   "execution_count": 14,
   "metadata": {},
   "outputs": [],
   "source": [
    "from matplotlib import rcParams"
   ]
  },
  {
   "cell_type": "code",
   "execution_count": 15,
   "metadata": {},
   "outputs": [
    {
     "data": {
      "image/png": "[encoded data removed]",
      "text/plain": [
       "<Figure size 720x360 with 6 Axes>"
      ]
     },
     "metadata": {
      "needs_background": "light"
     },
     "output_type": "display_data"
    }
   ],
   "source": [
    "rcParams['font.size'] = 15\n",
    "\n",
    "extent = (0.0, 3.0, 0.0, 2.0*np.pi)\n",
    "\n",
    "fig, (ax1, ax2, axdiff) = plt.subplots(nrows=1, ncols=3, figsize=(10,5))\n",
    "pcm1 = ax1.imshow(P_bar_arr, extent=extent)\n",
    "pcm2 = ax2.imshow(P_bar_ana_arr, extent=extent)\n",
    "\n",
    "vmax = np.abs(P_bar_diff_arr).max()\n",
    "vmin = -vmax\n",
    "pcmdiff = axdiff.imshow(P_bar_diff_arr, extent=extent, cmap='seismic', vmax=vmax, vmin=vmin)\n",
    "\n",
    "ax1.set_title(\"numerical\")\n",
    "ax2.set_title(\"analytical\")\n",
    "axdiff.set_title(\"difference\")\n",
    "\n",
    "ax1.set_xlabel(\"radius\")\n",
    "ax2.set_xlabel(\"radius\")\n",
    "axdiff.set_xlabel(\"radius\")\n",
    "\n",
    "ax1.set_ylabel(\"azimuthal angle\")\n",
    "\n",
    "fig.colorbar(pcm1, ax=ax1)\n",
    "fig.colorbar(pcm2, ax=ax2)\n",
    "fig.colorbar(pcmdiff, ax=axdiff)\n",
    "\n",
    "fig.tight_layout()\n",
    "# fig.savefig(\"comparison-for-radial-step-P_func.png\")"
   ]
  },
  {
   "cell_type": "markdown",
   "metadata": {},
   "source": [
    "# Plot in polar and spherical coordinate"
   ]
  },
  {
   "cell_type": "code",
   "execution_count": 16,
   "metadata": {},
   "outputs": [],
   "source": [
    "t_arr = np.linspace(-z0,z0,9)"
   ]
  },
  {
   "cell_type": "code",
   "execution_count": 17,
   "metadata": {},
   "outputs": [],
   "source": [
    "rho0 = 1.0"
   ]
  },
  {
   "cell_type": "code",
   "execution_count": 18,
   "metadata": {},
   "outputs": [],
   "source": [
    "rho_arr = np.sqrt(rho0*rho0 + t_arr*t_arr)\n",
    "theta_arr = np.pi / 2.0 - np.arctan2(t_arr, rho0)"
   ]
  },
  {
   "cell_type": "code",
   "execution_count": 19,
   "metadata": {},
   "outputs": [],
   "source": [
    "x_arr = rho_arr * np.sin(theta_arr)\n",
    "z_arr = rho_arr * np.cos(theta_arr)"
   ]
  },
  {
   "cell_type": "code",
   "execution_count": 20,
   "metadata": {},
   "outputs": [],
   "source": [
    "aa = np.sqrt( t_arr*t_arr * ( rho0*rho0 + t_arr*t_arr) + rho0*rho0 ) / ( rho0*rho0 + t_arr*t_arr )"
   ]
  },
  {
   "cell_type": "code",
   "execution_count": 21,
   "metadata": {},
   "outputs": [
    {
     "data": {
      "text/plain": [
       "[<matplotlib.lines.Line2D at 0x7f4f215df5c0>]"
      ]
     },
     "execution_count": 21,
     "metadata": {},
     "output_type": "execute_result"
    },
    {
     "data": {
      "image/png": "[encoded data removed]",
      "text/plain": [
       "<Figure size 720x216 with 3 Axes>"
      ]
     },
     "metadata": {
      "needs_background": "light"
     },
     "output_type": "display_data"
    }
   ],
   "source": [
    "figzz, (azz, ap, ass) = plt.subplots(nrows=1, ncols=3, figsize=(10,3))\n",
    "\n",
    "azz.plot(x_arr, z_arr, '.-')\n",
    "ap.plot(rho_arr, theta_arr, '.-')\n",
    "ass.plot(aa, t_arr)"
   ]
  }
 ],
 "metadata": {
  "kernelspec": {
   "display_name": "Python 3",
   "language": "python",
   "name": "python3"
  },
  "language_info": {
   "codemirror_mode": {
    "name": "ipython",
    "version": 3
   },
   "file_extension": ".py",
   "mimetype": "text/x-python",
   "name": "python",
   "nbconvert_exporter": "python",
   "pygments_lexer": "ipython3",
   "version": "3.5.2"
  }
 },
 "nbformat": 4,
 "nbformat_minor": 2
}
